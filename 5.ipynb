{
 "cells": [
  {
   "cell_type": "code",
   "execution_count": 1,
   "metadata": {},
   "outputs": [
    {
     "name": "stdout",
     "output_type": "stream",
     "text": [
      "Collecting fugashi==1.1.0\n",
      "  Downloading fugashi-1.1.0-cp37-cp37m-manylinux1_x86_64.whl (486 kB)\n",
      "\u001b[K     |████████████████████████████████| 486 kB 133 kB/s eta 0:00:01\n",
      "\u001b[?25hCollecting ipadic==1.0.0\n",
      "  Downloading ipadic-1.0.0.tar.gz (13.4 MB)\n",
      "\u001b[K     |████████████████████████████████| 13.4 MB 2.0 MB/s eta 0:00:01\n",
      "\u001b[?25hCollecting transformers==4.5.0\n",
      "  Downloading transformers-4.5.0-py3-none-any.whl (2.1 MB)\n",
      "\u001b[K     |████████████████████████████████| 2.1 MB 12.1 MB/s eta 0:00:01\n",
      "\u001b[?25hRequirement already satisfied: importlib-metadata in /home/nske/miniconda3/envs/jp/lib/python3.7/site-packages (from transformers==4.5.0) (3.4.0)\n",
      "Requirement already satisfied: requests in /home/nske/miniconda3/envs/jp/lib/python3.7/site-packages (from transformers==4.5.0) (2.25.1)\n",
      "Requirement already satisfied: packaging in /home/nske/miniconda3/envs/jp/lib/python3.7/site-packages (from transformers==4.5.0) (20.8)\n",
      "Requirement already satisfied: numpy>=1.17 in /home/nske/miniconda3/envs/jp/lib/python3.7/site-packages (from transformers==4.5.0) (1.19.5)\n",
      "Collecting regex!=2019.12.17\n",
      "  Downloading regex-2021.7.6-cp37-cp37m-manylinux2014_x86_64.whl (721 kB)\n",
      "\u001b[K     |████████████████████████████████| 721 kB 32.5 MB/s eta 0:00:01\n",
      "\u001b[?25hCollecting tokenizers<0.11,>=0.10.1\n",
      "  Downloading tokenizers-0.10.3-cp37-cp37m-manylinux_2_5_x86_64.manylinux1_x86_64.manylinux_2_12_x86_64.manylinux2010_x86_64.whl (3.3 MB)\n",
      "\u001b[K     |████████████████████████████████| 3.3 MB 7.3 MB/s eta 0:00:01\n",
      "\u001b[?25hCollecting tqdm>=4.27\n",
      "  Downloading tqdm-4.61.2-py2.py3-none-any.whl (76 kB)\n",
      "\u001b[K     |████████████████████████████████| 76 kB 2.7 MB/s eta 0:00:01\n",
      "\u001b[?25hCollecting filelock\n",
      "  Downloading filelock-3.0.12-py3-none-any.whl (7.6 kB)\n",
      "Requirement already satisfied: zipp>=0.5 in /home/nske/miniconda3/envs/jp/lib/python3.7/site-packages (from importlib-metadata->transformers==4.5.0) (3.4.0)\n",
      "Requirement already satisfied: typing-extensions>=3.6.4 in /home/nske/miniconda3/envs/jp/lib/python3.7/site-packages (from importlib-metadata->transformers==4.5.0) (3.7.4.3)\n",
      "Requirement already satisfied: pyparsing>=2.0.2 in /home/nske/miniconda3/envs/jp/lib/python3.7/site-packages (from packaging->transformers==4.5.0) (2.4.7)\n",
      "Requirement already satisfied: urllib3<1.27,>=1.21.1 in /home/nske/miniconda3/envs/jp/lib/python3.7/site-packages (from requests->transformers==4.5.0) (1.26.2)\n",
      "Requirement already satisfied: certifi>=2017.4.17 in /home/nske/miniconda3/envs/jp/lib/python3.7/site-packages (from requests->transformers==4.5.0) (2020.12.5)\n",
      "Requirement already satisfied: idna<3,>=2.5 in /home/nske/miniconda3/envs/jp/lib/python3.7/site-packages (from requests->transformers==4.5.0) (2.10)\n",
      "Requirement already satisfied: chardet<5,>=3.0.2 in /home/nske/miniconda3/envs/jp/lib/python3.7/site-packages (from requests->transformers==4.5.0) (4.0.0)\n",
      "Collecting sacremoses\n",
      "  Downloading sacremoses-0.0.45-py3-none-any.whl (895 kB)\n",
      "\u001b[K     |████████████████████████████████| 895 kB 2.7 MB/s eta 0:00:01\n",
      "\u001b[?25hRequirement already satisfied: joblib in /home/nske/miniconda3/envs/jp/lib/python3.7/site-packages (from sacremoses->transformers==4.5.0) (1.0.0)\n",
      "Requirement already satisfied: six in /home/nske/miniconda3/envs/jp/lib/python3.7/site-packages (from sacremoses->transformers==4.5.0) (1.15.0)\n",
      "Collecting click\n",
      "  Downloading click-8.0.1-py3-none-any.whl (97 kB)\n",
      "\u001b[K     |████████████████████████████████| 97 kB 4.1 MB/s eta 0:00:011\n",
      "\u001b[?25hBuilding wheels for collected packages: ipadic\n",
      "  Building wheel for ipadic (setup.py) ... \u001b[?25ldone\n",
      "\u001b[?25h  Created wheel for ipadic: filename=ipadic-1.0.0-py3-none-any.whl size=13556723 sha256=ddeae52c3a885a36e4babf5bdaff0b0d810ddb750e4d478492f1f43cbb6e9a09\n",
      "  Stored in directory: /home/nske/.cache/pip/wheels/33/8b/99/cf0d27191876637cd3639a560f93aa982d7855ce826c94348b\n",
      "Successfully built ipadic\n",
      "Installing collected packages: tqdm, regex, click, tokenizers, sacremoses, filelock, transformers, ipadic, fugashi\n",
      "Successfully installed click-8.0.1 filelock-3.0.12 fugashi-1.1.0 ipadic-1.0.0 regex-2021.7.6 sacremoses-0.0.45 tokenizers-0.10.3 tqdm-4.61.2 transformers-4.5.0\n"
     ]
    }
   ],
   "source": [
    "!pip install transformers==4.5.0 fugashi==1.1.0 ipadic==1.0.0 "
   ]
  },
  {
   "cell_type": "code",
   "execution_count": 3,
   "metadata": {},
   "outputs": [
    {
     "ename": "ModuleNotFoundError",
     "evalue": "No module named 'torch'",
     "output_type": "error",
     "traceback": [
      "\u001b[0;31m---------------------------------------------------------------------------\u001b[0m",
      "\u001b[0;31mModuleNotFoundError\u001b[0m                       Traceback (most recent call last)",
      "\u001b[0;32m<ipython-input-3-880b0d924354>\u001b[0m in \u001b[0;36m<module>\u001b[0;34m\u001b[0m\n\u001b[1;32m      1\u001b[0m \u001b[0;32mimport\u001b[0m \u001b[0mnumpy\u001b[0m \u001b[0;32mas\u001b[0m \u001b[0mnp\u001b[0m\u001b[0;34m\u001b[0m\u001b[0;34m\u001b[0m\u001b[0m\n\u001b[0;32m----> 2\u001b[0;31m \u001b[0;32mimport\u001b[0m \u001b[0mtorch\u001b[0m\u001b[0;34m\u001b[0m\u001b[0;34m\u001b[0m\u001b[0m\n\u001b[0m\u001b[1;32m      3\u001b[0m \u001b[0;32mfrom\u001b[0m \u001b[0mtransformers\u001b[0m \u001b[0;32mimport\u001b[0m \u001b[0mBertJapaneseTokenizer\u001b[0m\u001b[0;34m,\u001b[0m \u001b[0mBertForMaskedLM\u001b[0m\u001b[0;34m\u001b[0m\u001b[0;34m\u001b[0m\u001b[0m\n",
      "\u001b[0;31mModuleNotFoundError\u001b[0m: No module named 'torch'"
     ]
    }
   ],
   "source": [
    "import numpy as np  \n",
    "import torch  \n",
    "from transformers import BertJapaneseTokenizer, BertForMaskedLM "
   ]
  },
  {
   "cell_type": "code",
   "execution_count": null,
   "metadata": {},
   "outputs": [],
   "source": []
  }
 ],
 "metadata": {
  "kernelspec": {
   "display_name": "Python 3",
   "language": "python",
   "name": "python3"
  },
  "language_info": {
   "codemirror_mode": {
    "name": "ipython",
    "version": 3
   },
   "file_extension": ".py",
   "mimetype": "text/x-python",
   "name": "python",
   "nbconvert_exporter": "python",
   "pygments_lexer": "ipython3",
   "version": "3.7.9"
  }
 },
 "nbformat": 4,
 "nbformat_minor": 4
}
